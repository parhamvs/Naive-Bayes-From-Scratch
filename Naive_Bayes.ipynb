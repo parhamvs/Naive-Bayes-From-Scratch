{
  "nbformat": 4,
  "nbformat_minor": 0,
  "metadata": {
    "colab": {
      "provenance": [],
      "include_colab_link": true
    },
    "kernelspec": {
      "name": "python3",
      "display_name": "Python 3"
    },
    "language_info": {
      "name": "python"
    }
  },
  "cells": [
    {
      "cell_type": "markdown",
      "metadata": {
        "id": "view-in-github",
        "colab_type": "text"
      },
      "source": [
        "<a href=\"https://colab.research.google.com/github/parhamvs/Naive-Bayes-From-Scratch/blob/main/Naive_Bayes.ipynb\" target=\"_parent\"><img src=\"https://colab.research.google.com/assets/colab-badge.svg\" alt=\"Open In Colab\"/></a>"
      ]
    },
    {
      "cell_type": "code",
      "metadata": {
        "id": "BBpTVonOhk6d"
      },
      "source": [
        "import numpy as np\n",
        "\n",
        "class GaussianNaiveBayes:\n",
        "\n",
        "    def fit(self, X, y):\n",
        "        n_samples, n_features = X.shape\n",
        "        self.classes = np.unique(y)\n",
        "        n_classes = len(self.classes)\n",
        "\n",
        "        self.means = np.zeros((n_classes, n_features), dtype=np.float64)\n",
        "        self.var = np.zeros((n_classes, n_features), dtype=np.float64)\n",
        "        self._priors =  np.zeros(n_classes, dtype=np.float64)\n",
        "\n",
        "        # calculating the mean, variance and prior P(H) for each class\n",
        "        for i, c in enumerate(self.classes):\n",
        "            X_for_class_c = X[y==c]\n",
        "            self.means[i, :] = X_for_class_c.mean(axis=0)\n",
        "            self.var[i, :] = X_for_class_c.var(axis=0)\n",
        "            self._priors[i] = X_for_class_c.shape[0] / float(n_samples)\n",
        "\n",
        "    # calculating the likelihood, P(E|H)\n",
        "    def _calculate_likelihood(self, class_idx, x):\n",
        "        mean = self.means[class_idx]\n",
        "        var = self.var[class_idx]\n",
        "        num = np.exp(- (x-mean)**2 / (2 * var))\n",
        "        denom = np.sqrt(2 * np.pi * var)\n",
        "        return num / denom\n",
        "\n",
        "    def predict(self, X):\n",
        "        y_pred = [self._classify_sample(x) for x in X]\n",
        "        return np.array(y_pred)\n",
        "\n",
        "    def _classify_sample(self, x):\n",
        "        posteriors = []\n",
        "\n",
        "        # calculating posterior probability for each class\n",
        "        for i, c in enumerate(self.classes):\n",
        "            prior = np.log(self._priors[i])\n",
        "            posterior = np.sum(np.log(self._calculate_likelihood(i, x)))\n",
        "            posterior = prior + posterior\n",
        "            posteriors.append(posterior)\n",
        "            \n",
        "        # return the class with highest posterior probability\n",
        "        return self.classes[np.argmax(posteriors)]"
      ],
      "execution_count": null,
      "outputs": []
    },
    {
      "cell_type": "code",
      "metadata": {
        "colab": {
          "base_uri": "https://localhost:8080/"
        },
        "id": "wrTZpA2thq0K",
        "outputId": "abeaaccc-8fd5-45ad-9a38-87f3907a1a05"
      },
      "source": [
        "from sklearn.model_selection import train_test_split\n",
        "from sklearn.metrics import accuracy_score\n",
        "from sklearn import datasets\n",
        "import time\n",
        "\n",
        "X, y = datasets.make_classification(n_samples=1000, n_features=20, n_classes=2, random_state=42)\n",
        "X_train, X_test, y_train, y_test = train_test_split(X, y, test_size=0.25, random_state=42)\n",
        "\n",
        "start = time.perf_counter()\n",
        "nb = GaussianNaiveBayes()\n",
        "nb.fit(X_train, y_train)\n",
        "predictions = nb.predict(X_test)\n",
        "end = time.perf_counter()\n",
        "\n",
        "print(f\"NumPy Naive Bayes accuracy: {accuracy_score(y_test, predictions)}\")\n",
        "print(f'Finished in {round(end-start, 3)} second(s)') "
      ],
      "execution_count": null,
      "outputs": [
        {
          "output_type": "stream",
          "text": [
            "NumPy Naive Bayes accuracy: 0.796\n",
            "Finished in 0.017 second(s)\n"
          ],
          "name": "stdout"
        }
      ]
    },
    {
      "cell_type": "code",
      "metadata": {
        "colab": {
          "base_uri": "https://localhost:8080/"
        },
        "id": "sLJH34UQhsFC",
        "outputId": "1c36de7e-6744-4522-f44a-c32bd9f54f20"
      },
      "source": [
        "from sklearn.naive_bayes import GaussianNB\n",
        "\n",
        "start = time.perf_counter()\n",
        "sk_nb = GaussianNB()\n",
        "sk_nb.fit(X_train, y_train).predict(X_test)\n",
        "sk_predictions = sk_nb.predict(X_test)\n",
        "end = time.perf_counter()\n",
        "\n",
        "print(f\"scikit-learn Naive Bayes accuracy: {accuracy_score(y_test, sk_predictions)}\")\n",
        "print(f'Finished in {round(end-start, 3)} second(s)') "
      ],
      "execution_count": null,
      "outputs": [
        {
          "output_type": "stream",
          "text": [
            "scikit-learn Naive Bayes accuracy: 0.796\n",
            "Finished in 0.002 second(s)\n"
          ],
          "name": "stdout"
        }
      ]
    },
    {
      "cell_type": "code",
      "metadata": {
        "colab": {
          "base_uri": "https://localhost:8080/"
        },
        "id": "apu4cR9XiFw7",
        "outputId": "7461d7fe-5909-42fc-a826-39c4cb86ade8"
      },
      "source": [
        "from sklearn.datasets import load_iris\n",
        "\n",
        "X, y = load_iris(return_X_y=True)\n",
        "X_train, X_test, y_train, y_test = train_test_split(X, y, test_size=0.33, random_state=42)\n",
        "\n",
        "start = time.perf_counter()\n",
        "nb_iris = GaussianNaiveBayes()\n",
        "nb_iris.fit(X_train, y_train)\n",
        "predictions = nb_iris.predict(X_test)\n",
        "end = time.perf_counter()\n",
        "\n",
        "print(f\"NumPy Naive Bayes accuracy: {accuracy_score(y_test, predictions)}\")\n",
        "print(f'Finished in {round(end-start, 3)} second(s)') "
      ],
      "execution_count": null,
      "outputs": [
        {
          "output_type": "stream",
          "text": [
            "NumPy Naive Bayes accuracy: 0.96\n",
            "Finished in 0.004 second(s)\n"
          ],
          "name": "stdout"
        }
      ]
    },
    {
      "cell_type": "code",
      "metadata": {
        "colab": {
          "base_uri": "https://localhost:8080/"
        },
        "id": "OlH1Sfs0imT5",
        "outputId": "189a091b-e4ee-4402-bb4e-b94cc01d3d48"
      },
      "source": [
        "start = time.perf_counter()\n",
        "sk_nb_iris = GaussianNB() \n",
        "sk_nb_iris.fit(X_train, y_train).predict(X_test)\n",
        "sk_predictions = sk_nb_iris.predict(X_test)\n",
        "end = time.perf_counter()\n",
        "\n",
        "print(f\"scikit-learn Naive Bayes accuracy: {accuracy_score(y_test, sk_predictions)}\")\n",
        "print(f'Finished in {round(end-start, 3)} second(s)') "
      ],
      "execution_count": null,
      "outputs": [
        {
          "output_type": "stream",
          "text": [
            "scikit-learn Naive Bayes accuracy: 0.96\n",
            "Finished in 0.002 second(s)\n"
          ],
          "name": "stdout"
        }
      ]
    },
    {
      "cell_type": "code",
      "metadata": {
        "id": "eqWMdyDVX-AZ"
      },
      "source": [],
      "execution_count": null,
      "outputs": []
    }
  ]
}